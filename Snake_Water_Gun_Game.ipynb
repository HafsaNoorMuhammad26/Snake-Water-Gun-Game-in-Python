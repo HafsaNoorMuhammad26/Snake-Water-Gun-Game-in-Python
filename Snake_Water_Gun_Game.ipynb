{
 "cells": [
  {
   "cell_type": "code",
   "execution_count": 8,
   "id": "95805b1e-b563-4287-830b-143df544ea56",
   "metadata": {},
   "outputs": [
    {
     "name": "stdout",
     "output_type": "stream",
     "text": [
      "Comp Turn: Snake(s) Water(w) or Gun(g)?\n"
     ]
    },
    {
     "name": "stdin",
     "output_type": "stream",
     "text": [
      "Your Turn: Snake(s) Water(w) Gun(g)? s\n"
     ]
    },
    {
     "name": "stdout",
     "output_type": "stream",
     "text": [
      "Computer choose w\n",
      "You choose s\n",
      "You Win!\n"
     ]
    }
   ],
   "source": [
    "import random\n",
    "\n",
    "def gameWin(comp, you):\n",
    "    if comp == you:\n",
    "        return None\n",
    "    elif comp == 's':\n",
    "        if you == 'g':\n",
    "            return True\n",
    "        elif you == 'w':\n",
    "            return False\n",
    "    elif comp == 'w':\n",
    "        if you == 's':\n",
    "            return True\n",
    "        elif you == 'g':\n",
    "            return False\n",
    "    elif comp == 'g':\n",
    "        if you == 'w':\n",
    "            return True\n",
    "        elif you == 's':\n",
    "            return False\n",
    "\n",
    "print(\"Comp Turn: Snake(s) Water(w) or Gun(g)?\")\n",
    "randNo = random.randint(1, 3)\n",
    "if randNo == 1:\n",
    "    comp = 's'\n",
    "elif randNo == 2:\n",
    "    comp = 'w'\n",
    "elif randNo == 3:\n",
    "    comp = 'g'\n",
    "\n",
    "you = input(\"Your Turn: Snake(s) Water(w) Gun(g)?\")\n",
    "a = gameWin(comp, you)\n",
    "\n",
    "print(f\"Computer choose {comp}\")\n",
    "print(f\"You choose {you}\")\n",
    "\n",
    "if a == None:\n",
    "    print(\"The game is tie\")\n",
    "elif a:\n",
    "    print(\"You Win!\")\n",
    "else:\n",
    "    print(\"You Lose!\")\n"
   ]
  },
  {
   "cell_type": "code",
   "execution_count": null,
   "id": "c760a0c4-6fc9-45f3-880e-bee198581be9",
   "metadata": {},
   "outputs": [],
   "source": []
  },
  {
   "cell_type": "code",
   "execution_count": null,
   "id": "0e68bbdf-9fde-4896-9128-3825d70e79d0",
   "metadata": {},
   "outputs": [],
   "source": []
  }
 ],
 "metadata": {
  "kernelspec": {
   "display_name": "Python 3 (ipykernel)",
   "language": "python",
   "name": "python3"
  },
  "language_info": {
   "codemirror_mode": {
    "name": "ipython",
    "version": 3
   },
   "file_extension": ".py",
   "mimetype": "text/x-python",
   "name": "python",
   "nbconvert_exporter": "python",
   "pygments_lexer": "ipython3",
   "version": "3.12.4"
  }
 },
 "nbformat": 4,
 "nbformat_minor": 5
}
